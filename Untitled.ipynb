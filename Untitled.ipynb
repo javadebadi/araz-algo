{
 "cells": [
  {
   "cell_type": "code",
   "execution_count": null,
   "id": "f76955f1",
   "metadata": {},
   "outputs": [],
   "source": [
    "import time\n",
    "from datetime import datetime\n",
    "from api_access import KucoinClient\n",
    "import pandas as pd"
   ]
  },
  {
   "cell_type": "code",
   "execution_count": null,
   "id": "b09ec095",
   "metadata": {},
   "outputs": [],
   "source": [
    "client = KucoinClient()"
   ]
  },
  {
   "cell_type": "code",
   "execution_count": null,
   "id": "0153ba72",
   "metadata": {},
   "outputs": [],
   "source": [
    "client"
   ]
  },
  {
   "cell_type": "code",
   "execution_count": null,
   "id": "94381713",
   "metadata": {},
   "outputs": [],
   "source": [
    "unix_time = int(time.time())\n",
    "klines = client.get_kline_data('TRX-BTC', '30min', unix_time - 30*60*10, unix_time)"
   ]
  },
  {
   "cell_type": "code",
   "execution_count": null,
   "id": "37cdffcc",
   "metadata": {},
   "outputs": [],
   "source": [
    "class SymbolOHLCDM:\n",
    "    def"
   ]
  },
  {
   "cell_type": "markdown",
   "id": "6cb28532",
   "metadata": {},
   "source": [
    "[\n",
    "        \"1545904980\",             //Start time of the candle cycle                 \n",
    "        \"0.058\",                  //opening price                  \n",
    "        \"0.049\",                  //closing price                     \n",
    "        \"0.058\",                  //highest price                          \n",
    "        \"0.049\",                  //lowest price                             \n",
    "        \"0.018\",                  //Transaction amount                        \n",
    "        \"0.000945\"                //Transaction volume                      \n",
    "    ],"
   ]
  },
  {
   "cell_type": "code",
   "execution_count": null,
   "id": "e678c55f",
   "metadata": {},
   "outputs": [],
   "source": [
    "symbol = 'TRX-USDT'\n",
    "interval = '30min'\n",
    "klines = client.get_kline_data(symbol, interval)"
   ]
  },
  {
   "cell_type": "code",
   "execution_count": null,
   "id": "c2a1b494",
   "metadata": {},
   "outputs": [],
   "source": [
    "from data_models import OHLCDM, OHLCDMList"
   ]
  },
  {
   "cell_type": "code",
   "execution_count": null,
   "id": "d3986338",
   "metadata": {},
   "outputs": [],
   "source": [
    "klines"
   ]
  },
  {
   "cell_type": "code",
   "execution_count": null,
   "id": "80cf4866",
   "metadata": {},
   "outputs": [],
   "source": [
    "ohlc_obj_list = OHLCDMList()\n",
    "ohlc_obj_list.reset()\n",
    "for index, kline in enumerate(klines):\n",
    "    ohlc_obj = OHLCDM(symbol, interval)\n",
    "    for item in kline:\n",
    "        ohlc_obj.set_start_unix_time(klines[index][0])\n",
    "        ohlc_obj.set_open(klines[index][1])\n",
    "        ohlc_obj.set_close(klines[index][2])\n",
    "        ohlc_obj.set_high(klines[index][3])\n",
    "        ohlc_obj.set_low(klines[index][4])\n",
    "        ohlc_obj.set_amount(klines[index][5])\n",
    "        ohlc_obj.set_volume(klines[index][6])\n",
    "    ohlc_obj_list.append(ohlc_obj)\n",
    "print(ohlc_obj_list)"
   ]
  },
  {
   "cell_type": "code",
   "execution_count": null,
   "id": "f2dab5c9",
   "metadata": {},
   "outputs": [],
   "source": [
    "unix_date = datetime.utcfromtimestamp(unix_time)"
   ]
  },
  {
   "cell_type": "code",
   "execution_count": null,
   "id": "ae9188e6",
   "metadata": {},
   "outputs": [],
   "source": [
    "while True:\n",
    "    time.sleep(1)\n",
    "    print(time.time())"
   ]
  },
  {
   "cell_type": "code",
   "execution_count": null,
   "id": "5324ea25",
   "metadata": {},
   "outputs": [],
   "source": [
    "unix_date.timestamp()"
   ]
  },
  {
   "cell_type": "code",
   "execution_count": null,
   "id": "cf35adac",
   "metadata": {},
   "outputs": [],
   "source": [
    "print(datetime.utcfromtimestamp(unix_time).strftime('%Y-%m-%d %H:%M:%S'))"
   ]
  },
  {
   "cell_type": "code",
   "execution_count": null,
   "id": "77edccad",
   "metadata": {},
   "outputs": [],
   "source": [
    "klines"
   ]
  },
  {
   "cell_type": "code",
   "execution_count": null,
   "id": "bb422760",
   "metadata": {},
   "outputs": [],
   "source": [
    "kucoin_client.get_order_book('KCS-BTC')"
   ]
  },
  {
   "cell_type": "code",
   "execution_count": null,
   "id": "e1da82ae",
   "metadata": {},
   "outputs": [],
   "source": [
    "api_key = '<api_key>'\n",
    "api_secret = '<api_secret>'\n",
    "api_passphrase = '<api_passphrase>'\n",
    "\n",
    "client = Client(api_key, api_secret, api_passphrase)\n",
    "\n",
    "# or connect to Sandbox\n",
    "# client = Client(api_key, api_secret, api_passphrase, sandbox=True)\n",
    "\n",
    "# get currencies\n",
    "currencies = client.get_currencies()\n",
    "\n",
    "# get market depth\n",
    "depth = client.get_order_book('KCS-BTC')\n",
    "\n",
    "# get symbol klines\n",
    "klines = client.get_kline_data('KCS-BTC')\n",
    "\n",
    "# get list of markets\n",
    "markets = client.get_markets()\n",
    "\n",
    "# place a market buy order\n",
    "order = client.create_market_order('NEO', Client.SIDE_BUY, size=20)\n",
    "\n",
    "# get list of active orders\n",
    "orders = client.get_active_orders('KCS-BTC')"
   ]
  },
  {
   "cell_type": "code",
   "execution_count": null,
   "id": "6742eabe",
   "metadata": {},
   "outputs": [],
   "source": [
    "client.get_symbols()"
   ]
  },
  {
   "cell_type": "code",
   "execution_count": 2,
   "id": "c6c49beb",
   "metadata": {},
   "outputs": [],
   "source": [
    "from sqlalchemy import create_engine\n",
    "from data_access.da import engine\n",
    "import os"
   ]
  },
  {
   "cell_type": "code",
   "execution_count": null,
   "id": "b1d398cd",
   "metadata": {},
   "outputs": [],
   "source": [
    "from sqlalchemy.sql import insert, select, update\n",
    "from sqlalchemy import MetaData\n",
    "from sqlalchemy import Table"
   ]
  },
  {
   "cell_type": "code",
   "execution_count": null,
   "id": "cd1a77ca",
   "metadata": {},
   "outputs": [],
   "source": [
    "from data_access.da import engine"
   ]
  },
  {
   "cell_type": "code",
   "execution_count": null,
   "id": "61aa29eb",
   "metadata": {},
   "outputs": [],
   "source": [
    "df = pd.read_sql(\"SELECT * FROM OHLC where symbol = 'TRX-USDT'\", con=engine)"
   ]
  },
  {
   "cell_type": "code",
   "execution_count": null,
   "id": "9da5484e",
   "metadata": {},
   "outputs": [],
   "source": [
    "metadata.tables"
   ]
  },
  {
   "cell_type": "code",
   "execution_count": null,
   "id": "75fde2d9",
   "metadata": {},
   "outputs": [],
   "source": [
    "client.get_symbols()"
   ]
  },
  {
   "cell_type": "code",
   "execution_count": null,
   "id": "33ba0a84",
   "metadata": {},
   "outputs": [],
   "source": [
    "conda install bokeh"
   ]
  },
  {
   "cell_type": "code",
   "execution_count": 1,
   "id": "d90c81e3",
   "metadata": {},
   "outputs": [
    {
     "ename": "NameError",
     "evalue": "name 'engine' is not defined",
     "output_type": "error",
     "traceback": [
      "\u001b[1;31m---------------------------------------------------------------------------\u001b[0m",
      "\u001b[1;31mNameError\u001b[0m                                 Traceback (most recent call last)",
      "\u001b[1;32m<ipython-input-1-2ba10246e9f6>\u001b[0m in \u001b[0;36m<module>\u001b[1;34m\u001b[0m\n\u001b[0;32m      4\u001b[0m \u001b[1;33m\u001b[0m\u001b[0m\n\u001b[0;32m      5\u001b[0m \u001b[1;32mfrom\u001b[0m \u001b[0mbokeh\u001b[0m\u001b[1;33m.\u001b[0m\u001b[0mplotting\u001b[0m \u001b[1;32mimport\u001b[0m \u001b[0mfigure\u001b[0m\u001b[1;33m,\u001b[0m \u001b[0moutput_file\u001b[0m\u001b[1;33m,\u001b[0m \u001b[0mshow\u001b[0m\u001b[1;33m\u001b[0m\u001b[1;33m\u001b[0m\u001b[0m\n\u001b[1;32m----> 6\u001b[1;33m \u001b[0mdf\u001b[0m \u001b[1;33m=\u001b[0m \u001b[0mpd\u001b[0m\u001b[1;33m.\u001b[0m\u001b[0mread_sql\u001b[0m\u001b[1;33m(\u001b[0m\u001b[0msql\u001b[0m\u001b[1;33m=\u001b[0m\u001b[1;34m\"SELECT * FROM ohlc where symbol = 'TRX-USDT'\"\u001b[0m\u001b[1;33m,\u001b[0m \u001b[0mcon\u001b[0m\u001b[1;33m=\u001b[0m\u001b[0mengine\u001b[0m\u001b[1;33m)\u001b[0m\u001b[1;33m\u001b[0m\u001b[1;33m\u001b[0m\u001b[0m\n\u001b[0m\u001b[0;32m      7\u001b[0m \u001b[1;33m\u001b[0m\u001b[0m\n\u001b[0;32m      8\u001b[0m \u001b[0mdf\u001b[0m\u001b[1;33m[\u001b[0m\u001b[1;34m\"start_datetime\"\u001b[0m\u001b[1;33m]\u001b[0m \u001b[1;33m=\u001b[0m \u001b[0mpd\u001b[0m\u001b[1;33m.\u001b[0m\u001b[0mto_datetime\u001b[0m\u001b[1;33m(\u001b[0m\u001b[0mdf\u001b[0m\u001b[1;33m[\u001b[0m\u001b[1;34m\"start_datetime\"\u001b[0m\u001b[1;33m]\u001b[0m\u001b[1;33m)\u001b[0m\u001b[1;33m\u001b[0m\u001b[1;33m\u001b[0m\u001b[0m\n",
      "\u001b[1;31mNameError\u001b[0m: name 'engine' is not defined"
     ]
    }
   ],
   "source": [
    "from math import pi\n",
    "\n",
    "import pandas as pd\n",
    "\n",
    "from bokeh.plotting import figure, output_file, show\n",
    "df = pd.read_sql(sql=\"SELECT * FROM ohlc where symbol = 'TRX-USDT'\", con=engine)\n",
    "\n",
    "df[\"start_datetime\"] = pd.to_datetime(df[\"start_datetime\"])\n",
    "\n",
    "inc = df.close > df.open\n",
    "dec = df.open > df.close\n",
    "w = 20*60*1000 # half day in ms\n",
    "\n",
    "TOOLS = \"pan,wheel_zoom,box_zoom,reset,save\"\n",
    "\n",
    "p = figure(x_axis_type=\"datetime\", tools=TOOLS, plot_width=1000, title = \"TRX-USDT Candlestick\")\n",
    "p.xaxis.major_label_orientation = pi/4\n",
    "p.grid.grid_line_alpha=0.3\n",
    "\n",
    "p.segment(df.start_datetime, df.high, df.start_datetime, df.low, color=\"black\")\n",
    "p.vbar(df.start_datetime[inc], w, df.open[inc], df.close[inc], fill_color=\"#D5E1DD\", line_color=\"black\")\n",
    "p.vbar(df.start_datetime[dec], w, df.open[dec], df.close[dec], fill_color=\"#F2583E\", line_color=\"black\")\n",
    "\n",
    "output_file(\"candlestick.html\", title=\"candlestick.py example\")\n",
    "\n",
    "show(p)  # open a browser"
   ]
  },
  {
   "cell_type": "code",
   "execution_count": null,
   "id": "cd3b6ce0",
   "metadata": {},
   "outputs": [],
   "source": [
    "\"\"\"A Candlestick class\n",
    "\"\"\"\n",
    "from pandas.core.series import Series\n",
    "from pandas.core.frame import DataFrame\n",
    "import pandas\n",
    "import numpy\n",
    "\n",
    "\n",
    "class CandleStickNode:\n",
    "    \"\"\"A class for candlestick used in tradings\"\"\"\n",
    "\n",
    "    def __init__(\n",
    "        self,\n",
    "        open: float=None,\n",
    "        high: float=None,\n",
    "        low: float=None,\n",
    "        close: float=None,\n",
    "        volume: float=None\n",
    "        ) -> None:\n",
    "        if open is not None:\n",
    "            self.set_ohlc(open, high, low, close)\n",
    "            self.volume = volume\n",
    "        else:\n",
    "            self.set_none()\n",
    "        self.prev = None\n",
    "        self.next = None\n",
    "\n",
    "    def sorted_ohlc(self):\n",
    "        return self.sorted_ohlc\n",
    "\n",
    "    def ohlc(self):\n",
    "        return (self.open, self.high, self.low, self.close)\n",
    "\n",
    "    def set_ohlc(self, open: float, high: float, low:float, close:float):\n",
    "        if not (\n",
    "            (isinstance(open, float) or isinstance(open, int))\n",
    "            and\n",
    "            (isinstance(high, float) or isinstance(high, int))\n",
    "            and\n",
    "            (isinstance(low, float) or isinstance(low, int))\n",
    "            and\n",
    "            (isinstance(close, float) or isinstance(close, int))\n",
    "            ):\n",
    "            raise TypeError('all values given to ohlc method must be float or integer')\n",
    "        assert (low <= close and low <= high and low <= open)\n",
    "        assert (high >= close and high >= open )\n",
    "        self.open = open\n",
    "        self.high = high\n",
    "        self.low = low\n",
    "        self.close = close\n",
    "        self.sorted_ohlc = sorted(self.ohlc())\n",
    "\n",
    "    def set_none(self):\n",
    "        self.open = None\n",
    "        self.high = None\n",
    "        self.low = None\n",
    "        self.close = None\n",
    "        self.sorted_ohlc = None\n",
    "\n",
    "\n",
    "    # computational methods\n",
    "    def __len__(self):\n",
    "        return self.high - self.low\n",
    "\n",
    "    @property\n",
    "    def upper_shadow(self):\n",
    "        return self.sorted_ohlc[3] - self.sorted_ohlc[2]\n",
    "\n",
    "    @property\n",
    "    def lower_shadow(self):\n",
    "        return self.sorted_ohlc[1] - self.sorted_ohlc[0]\n",
    "\n",
    "    @property\n",
    "    def real_body(self):\n",
    "        return self.sorted_ohlc[2] - self.sorted_ohlc[1]\n",
    "\n",
    "    @property\n",
    "    def is_hollow(self):\n",
    "        return self.close > self.open\n",
    "\n",
    "    @property\n",
    "    def is_filled(self):\n",
    "        return self.open > self.close\n",
    "\n",
    "    def __truediv__(self, other):\n",
    "        \"\"\"Overloaded / operator \n",
    "        \n",
    "        The method returns the ratio of lengths of LHS Candlestick\n",
    "        to RHS candlestick object\n",
    "\n",
    "        >>> c = CandlestickNode(100, 500, 0, 200)\n",
    "        >>> d = CandlestickNode(1000, 5000, 0, 2000)\n",
    "        >>> d / c\n",
    "        10.0\n",
    "        \"\"\"\n",
    "        return self.__len__() / other.__len__()\n",
    "\n",
    "    def __floordiv__(self, other):\n",
    "        \"\"\"Overloaded // operator \n",
    "        \n",
    "        The method returns the ratio of lengths of LHS Candlestick\n",
    "        to RHS candlestick object\n",
    "\n",
    "        >>> c = CandlestickNode(100, 500, 0, 200)\n",
    "        >>> d = CandlestickNode(1000, 5000, 0, 2000)\n",
    "        >>> d // c\n",
    "        10\n",
    "        \"\"\"\n",
    "        return self.__len__() // other.__len__()\n",
    "\n",
    "\n",
    "class CandlestickTimesSeries:\n",
    "    \"\"\"\n",
    "    >>> import pandas as pd\n",
    "    >>> df = pd.read_csv('BTC-USD.csv', index_col=0, parse_dates=True).dropna()\n",
    "    >>> c = CandlestickTimesSeries(df)\n",
    "    >>> c = CandlestickTimesSeries([2])\n",
    "    Traceback (most recent call last):\n",
    "    ...\n",
    "    AssertionError\n",
    "    >>> c = CandlestickTimesSeries(df)\n",
    "    >>> c.add_candlestick_features()\n",
    "    >>> assert 'upper_shadow' in c.df.columns\n",
    "    \"\"\"\n",
    "    def __init__(self, df: DataFrame=None) -> None:\n",
    "\n",
    "        if df is not None:\n",
    "            assert isinstance(df, pandas.core.frame.DataFrame)\n",
    "            assert set(['open', 'high', 'low', 'close']).issubset(set(df.columns))\n",
    "        self.set_df(df)\n",
    "        \n",
    "    @property\n",
    "    def df(self):\n",
    "        return self._df\n",
    "\n",
    "    def set_df(self, df):\n",
    "        self._df = df\n",
    "        print(\">>>>>>>>>>>>>>>>>>>>>>>>>>>>>>\")\n",
    "        self._df['Candlesticks'] = df.apply(\n",
    "            lambda row: CandleStickNode(row['open'], row['high'], row['low'], row['close'], row['volume']),\n",
    "            axis=1\n",
    "            )\n",
    "        print(\">>>>>>>>>>>>>>>>>>>>>>>>>>>>>>\")\n",
    "\n",
    "    def add_candlestick_features(self):\n",
    "        self._df['length'] = self._df['Candlesticks'].apply(lambda item: item.__len__())\n",
    "        self._df['upper_shadow'] = self._df['Candlesticks'].apply(lambda item: item.upper_shadow)\n",
    "        self._df['lower_shadow'] = self._df['Candlesticks'].apply(lambda item: item.lower_shadow)\n",
    "        self._df['real_body'] = self._df['Candlesticks'].apply(lambda item: item.real_body)\n",
    "        self.df['is_hollow'] = self._df['Candlesticks'].apply(lambda item: item.is_hollow)\n",
    "        self._df['is_filled'] = self._df['Candlesticks'].apply(lambda item: item.is_filled)\n",
    "        # add longness\n",
    "        self._df['longness'] = numpy.nan\n",
    "        self._df['longness'][1:] = self._df['Candlesticks'][1:] / self._df['Candlesticks'].shift(1)[1:]\n",
    "        self._df['longness_signed'] = self._df.apply(lambda item: int(item['is_hollow'])*item['longness'] - int(item['is_filled'])*item['longness'], axis=1)\n",
    "        # for index in range(len(self._df)):\n",
    "        #     if index == 0:\n",
    "        #         self._df['longness'].iloc[0] = None\n",
    "        #     else:\n",
    "        #         self._df['longness'].iloc[index] = self._df['Candlesticks'].iloc[index]/self._df['Candlesticks'].iloc[index-1]\n",
    "\n",
    "    def to_values(self):\n",
    "        return self._df.to_dict(orient='rows')\n",
    "        \n"
   ]
  },
  {
   "cell_type": "code",
   "execution_count": null,
   "id": "ef9c7869",
   "metadata": {},
   "outputs": [],
   "source": [
    "c = Candlestick(10,20,5,15,50)"
   ]
  },
  {
   "cell_type": "code",
   "execution_count": null,
   "id": "84c891a6",
   "metadata": {},
   "outputs": [],
   "source": [
    "vars(c)"
   ]
  },
  {
   "cell_type": "code",
   "execution_count": null,
   "id": "6bf2e169",
   "metadata": {},
   "outputs": [],
   "source": [
    "cts = CandlestickTimesSeries(df)\n",
    "cts.add_candlestick_features()"
   ]
  },
  {
   "cell_type": "code",
   "execution_count": null,
   "id": "5a543461",
   "metadata": {},
   "outputs": [],
   "source": [
    "df.to_dict(orient='records')"
   ]
  },
  {
   "cell_type": "code",
   "execution_count": 4,
   "id": "57799f20",
   "metadata": {},
   "outputs": [
    {
     "data": {
      "text/html": [
       "<div>\n",
       "<style scoped>\n",
       "    .dataframe tbody tr th:only-of-type {\n",
       "        vertical-align: middle;\n",
       "    }\n",
       "\n",
       "    .dataframe tbody tr th {\n",
       "        vertical-align: top;\n",
       "    }\n",
       "\n",
       "    .dataframe thead th {\n",
       "        text-align: right;\n",
       "    }\n",
       "</style>\n",
       "<table border=\"1\" class=\"dataframe\">\n",
       "  <thead>\n",
       "    <tr style=\"text-align: right;\">\n",
       "      <th></th>\n",
       "      <th>length</th>\n",
       "    </tr>\n",
       "    <tr>\n",
       "      <th>ohlc_id</th>\n",
       "      <th></th>\n",
       "    </tr>\n",
       "  </thead>\n",
       "  <tbody>\n",
       "    <tr>\n",
       "      <th>1573</th>\n",
       "      <td>0.000709</td>\n",
       "    </tr>\n",
       "    <tr>\n",
       "      <th>1572</th>\n",
       "      <td>0.000360</td>\n",
       "    </tr>\n",
       "    <tr>\n",
       "      <th>1571</th>\n",
       "      <td>0.000434</td>\n",
       "    </tr>\n",
       "    <tr>\n",
       "      <th>1570</th>\n",
       "      <td>0.000409</td>\n",
       "    </tr>\n",
       "    <tr>\n",
       "      <th>1569</th>\n",
       "      <td>0.000917</td>\n",
       "    </tr>\n",
       "    <tr>\n",
       "      <th>...</th>\n",
       "      <td>...</td>\n",
       "    </tr>\n",
       "    <tr>\n",
       "      <th>76</th>\n",
       "      <td>0.009223</td>\n",
       "    </tr>\n",
       "    <tr>\n",
       "      <th>75</th>\n",
       "      <td>0.010948</td>\n",
       "    </tr>\n",
       "    <tr>\n",
       "      <th>74</th>\n",
       "      <td>0.003159</td>\n",
       "    </tr>\n",
       "    <tr>\n",
       "      <th>1575</th>\n",
       "      <td>0.002716</td>\n",
       "    </tr>\n",
       "    <tr>\n",
       "      <th>1574</th>\n",
       "      <td>0.001497</td>\n",
       "    </tr>\n",
       "  </tbody>\n",
       "</table>\n",
       "<p>1502 rows × 1 columns</p>\n",
       "</div>"
      ],
      "text/plain": [
       "           length\n",
       "ohlc_id          \n",
       "1573     0.000709\n",
       "1572     0.000360\n",
       "1571     0.000434\n",
       "1570     0.000409\n",
       "1569     0.000917\n",
       "...           ...\n",
       "76       0.009223\n",
       "75       0.010948\n",
       "74       0.003159\n",
       "1575     0.002716\n",
       "1574     0.001497\n",
       "\n",
       "[1502 rows x 1 columns]"
      ]
     },
     "execution_count": 4,
     "metadata": {},
     "output_type": "execute_result"
    }
   ],
   "source": [
    "pd.read_sql(\"SELECT * FROM candlestick\", engine, index_col='ohlc_id')"
   ]
  },
  {
   "cell_type": "code",
   "execution_count": 5,
   "id": "446393ff",
   "metadata": {},
   "outputs": [
    {
     "ename": "NameError",
     "evalue": "name 'df' is not defined",
     "output_type": "error",
     "traceback": [
      "\u001b[1;31m---------------------------------------------------------------------------\u001b[0m",
      "\u001b[1;31mNameError\u001b[0m                                 Traceback (most recent call last)",
      "\u001b[1;32m<ipython-input-5-00cf07b74dcd>\u001b[0m in \u001b[0;36m<module>\u001b[1;34m\u001b[0m\n\u001b[1;32m----> 1\u001b[1;33m \u001b[0mdf\u001b[0m\u001b[1;33m\u001b[0m\u001b[1;33m\u001b[0m\u001b[0m\n\u001b[0m",
      "\u001b[1;31mNameError\u001b[0m: name 'df' is not defined"
     ]
    }
   ],
   "source": []
  },
  {
   "cell_type": "code",
   "execution_count": 9,
   "id": "7ba6d1de",
   "metadata": {},
   "outputs": [],
   "source": [
    "from sklearn.linear_model import LinearRegression\n",
    "import numpy as np"
   ]
  },
  {
   "cell_type": "code",
   "execution_count": 13,
   "id": "4052baac",
   "metadata": {},
   "outputs": [
    {
     "data": {
      "text/plain": [
       "array([18., 23.])"
      ]
     },
     "execution_count": 13,
     "metadata": {},
     "output_type": "execute_result"
    }
   ],
   "source": [
    "from sklearn.linear_model import LinearRegression\n",
    "X = np.array([[1], [2], [3], [4]])\n",
    "y = np.dot(X, np.array([5])) + 3\n",
    "reg = LinearRegression().fit(X, y)\n",
    "reg.score(X, y)\n",
    "# reg.coef_\n",
    "# array([1., 2.])\n",
    "# >>> reg.intercept_\n",
    "# 3.0...\n",
    "reg.predict(np.array([[3],[4]]))\n",
    "# array([16.])"
   ]
  },
  {
   "cell_type": "code",
   "execution_count": null,
   "id": "dbcee202",
   "metadata": {},
   "outputs": [],
   "source": [
    "from "
   ]
  }
 ],
 "metadata": {
  "kernelspec": {
   "display_name": "Python 3",
   "language": "python",
   "name": "python3"
  },
  "language_info": {
   "codemirror_mode": {
    "name": "ipython",
    "version": 3
   },
   "file_extension": ".py",
   "mimetype": "text/x-python",
   "name": "python",
   "nbconvert_exporter": "python",
   "pygments_lexer": "ipython3",
   "version": "3.8.10"
  }
 },
 "nbformat": 4,
 "nbformat_minor": 5
}
